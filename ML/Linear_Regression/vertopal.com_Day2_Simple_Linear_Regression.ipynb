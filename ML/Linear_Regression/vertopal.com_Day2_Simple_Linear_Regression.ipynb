{
 "cells": [
  {
   "attachments": {},
   "cell_type": "markdown",
   "id": "ec02b6ab",
   "metadata": {},
   "source": [
    "# Simple Linear Regression\n",
    "## Step 1: Data Preprocessing"
   ]
  },
  {
   "cell_type": "code",
   "execution_count": null,
   "id": "d95c7783",
   "metadata": {},
   "outputs": [],
   "source": [
    "import pandas as pd\n",
    "import numpy as np\n",
    "import matplotlib.pyplot as plt\n",
    "\n",
    "dataset = pd.read_csv('studentscores.csv')\n",
    "X = dataset.iloc[ : ,   : 1 ].values\n",
    "Y = dataset.iloc[ : , 1 ].values\n",
    "\n",
    "from sklearn.cross_validation import train_test_split\n",
    "X_train, X_test, Y_train, Y_test = train_test_split( X, Y, test_size = 1/4, random_state = 0) "
   ]
  },
  {
   "attachments": {},
   "cell_type": "markdown",
   "id": "50d2ef1c-27b6-4332-a97d-111f0db9360c",
   "metadata": {},
   "source": [
    "\n",
    "\n",
    "# Step 2: Fitting Simple Linear Regression Model to the training set\n",
    "\n",
    "``` python\n",
    "from sklearn.linear_model import LinearRegression\n",
    "regressor = LinearRegression()\n",
    "regressor = regressor.fit(X_train, Y_train)\n",
    "```\n",
    "\n",
    "\\# Step 3: Predecting the Result\n",
    "`python  Y_pred = regressor.predict(X_test)`\n",
    "\n",
    "\\# Step 4: Visualization \\## Visualising the Training results\n",
    "`python  plt.scatter(X_train , Y_train, color = 'red')  plt.plot(X_train , regressor.predict(X_train), color ='blue')`\n",
    "\\## Visualizing the test results\n",
    "`python  plt.scatter(X_test , Y_test, color = 'red')  plt.plot(X_test , regressor.predict(X_test), color ='blue')`"
   ]
  }
 ],
 "metadata": {
  "kernelspec": {
   "display_name": "Python 3",
   "language": "python",
   "name": "python3"
  },
  "language_info": {
   "name": "python",
   "version": "3.11.2"
  }
 },
 "nbformat": 4,
 "nbformat_minor": 5
}
